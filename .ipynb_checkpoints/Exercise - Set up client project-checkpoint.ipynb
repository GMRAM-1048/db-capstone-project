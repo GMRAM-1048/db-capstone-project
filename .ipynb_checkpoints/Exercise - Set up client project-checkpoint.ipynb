{
 "cells": [
  {
   "cell_type": "markdown",
   "id": "872cedc6",
   "metadata": {},
   "source": [
    "# Exercise - Set up client project"
   ]
  },
  {
   "cell_type": "code",
   "execution_count": 7,
   "id": "ae55eaec",
   "metadata": {},
   "outputs": [
    {
     "name": "stdout",
     "output_type": "stream",
     "text": [
      "Defaulting to user installation because normal site-packages is not writeable\n",
      "Requirement already satisfied: mysql-connector-python in c:\\program files\\python310\\lib\\site-packages (8.0.32)\n",
      "Requirement already satisfied: protobuf<=3.20.3,>=3.11.0 in c:\\users\\gmram\\appdata\\roaming\\python\\python310\\site-packages (from mysql-connector-python) (3.19.4)\n"
     ]
    }
   ],
   "source": [
    "!pip install mysql-connector-python\n",
    "\n",
    "import mysql.connector as connector"
   ]
  },
  {
   "cell_type": "code",
   "execution_count": 13,
   "id": "859c9870",
   "metadata": {},
   "outputs": [
    {
     "name": "stdout",
     "output_type": "stream",
     "text": [
      "('anyview',)\n",
      "('bookings',)\n",
      "('clients',)\n",
      "('fourtablesview',)\n",
      "('menuitems',)\n",
      "('menus',)\n",
      "('orders',)\n",
      "('orders_status',)\n",
      "('ordersview',)\n",
      "('staff',)\n"
     ]
    }
   ],
   "source": [
    "connection = connector.connect(user = \"Project_Admin_Meta\", password = \"Project_Admin_Meta\", db = \"littlelemondb\") \n",
    "\n",
    "# Create cursor object to communicate with entire MySQL database\n",
    "cursor = connection.cursor()\n",
    "\n",
    "# Query\n",
    "Show_tables_query = \"SHOW tables\"\n",
    "\n",
    "# Execute Query\n",
    "cursor.execute(Show_tables_query)\n",
    "\n",
    "res = cursor.fetchall()\n",
    "\n",
    "for r in res:\n",
    "    print(r)"
   ]
  },
  {
   "cell_type": "code",
   "execution_count": 14,
   "id": "2cc85839",
   "metadata": {},
   "outputs": [
    {
     "name": "stdout",
     "output_type": "stream",
     "text": [
      "('Total_Cost', 'ContactNumber')\n"
     ]
    }
   ],
   "source": [
    "# Query\n",
    "Join_tables_query = \"SELECT Total_Cost, ContactNumber FROM Orders INNER JOIN Clients ON O_Client_ID = Client_ID WHERE Total_Cost > 60\"\n",
    "\n",
    "# Execute Query\n",
    "cursor.execute(Join_tables_query)\n",
    "\n",
    "cols = cursor.column_names\n",
    "res = cursor.fetchall()\n",
    "\n",
    "print(cols)\n",
    "for r in res:\n",
    "    print(r)"
   ]
  },
  {
   "cell_type": "code",
   "execution_count": 15,
   "id": "4935efbe",
   "metadata": {},
   "outputs": [
    {
     "name": "stdout",
     "output_type": "stream",
     "text": [
      "The cursor is closed.\n",
      "MySQL connection is closed.\n"
     ]
    }
   ],
   "source": [
    "if connection.is_connected():\n",
    "    cursor.close()\n",
    "    print(\"The cursor is closed.\")\n",
    "    connection.close()\n",
    "    print(\"MySQL connection is closed.\")\n",
    "else:\n",
    "    print(\"Connection is already closed\")"
   ]
  },
  {
   "cell_type": "code",
   "execution_count": null,
   "id": "702320ec",
   "metadata": {},
   "outputs": [],
   "source": []
  }
 ],
 "metadata": {
  "kernelspec": {
   "display_name": "Python 3 (ipykernel)",
   "language": "python",
   "name": "python3"
  },
  "language_info": {
   "codemirror_mode": {
    "name": "ipython",
    "version": 3
   },
   "file_extension": ".py",
   "mimetype": "text/x-python",
   "name": "python",
   "nbconvert_exporter": "python",
   "pygments_lexer": "ipython3",
   "version": "3.10.6"
  }
 },
 "nbformat": 4,
 "nbformat_minor": 5
}
